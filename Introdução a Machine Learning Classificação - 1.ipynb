{
  "cells": [
    {
      "metadata": {
        "trusted": true
      },
      "cell_type": "code",
      "source": "#features\n#longo?\n#perna curta?\n#faz auau?\nporco1 = [0, 1, 0]\nporco2 = [0, 1, 1]\nporco3 = [1, 1, 0]\n\ncachorro1 = [0, 1, 1]\ncachorro2= [1, 0, 1]\ncachorro3= [1, 1, 1]\n\n# 1 => porco, 0  => cachorro\ntreino_x = [porco1, porco2, porco3, cachorro1, cachorro2, cachorro3]\ntreino_y = [1,1,1,0,0,0]",
      "execution_count": 1,
      "outputs": []
    },
    {
      "metadata": {
        "trusted": true
      },
      "cell_type": "code",
      "source": "from sklearn.svm import LinearSVC\n\nmodel = LinearSVC()\nmodel.fit(treino_x, treino_y)",
      "execution_count": 2,
      "outputs": [
        {
          "output_type": "execute_result",
          "execution_count": 2,
          "data": {
            "text/plain": "LinearSVC(C=1.0, class_weight=None, dual=True, fit_intercept=True,\n     intercept_scaling=1, loss='squared_hinge', max_iter=1000,\n     multi_class='ovr', penalty='l2', random_state=None, tol=0.0001,\n     verbose=0)"
          },
          "metadata": {}
        }
      ]
    },
    {
      "metadata": {
        "trusted": true
      },
      "cell_type": "code",
      "source": "animal_misterioso = [1,1,1]\nmodel.predict([animal_misterioso])",
      "execution_count": 3,
      "outputs": [
        {
          "output_type": "execute_result",
          "execution_count": 3,
          "data": {
            "text/plain": "array([0])"
          },
          "metadata": {}
        }
      ]
    },
    {
      "metadata": {
        "trusted": true
      },
      "cell_type": "code",
      "source": "misterio1 = [1,1,1]\nmisterio2 = [1,1,0]\nmisterio3 = [0,1,1]\n\nteste_x = [misterio1, misterio2, misterio3]\nteste_y = [0, 1, 1]\nprevisoes = model.predict(teste_x)",
      "execution_count": 4,
      "outputs": []
    },
    {
      "metadata": {
        "trusted": true
      },
      "cell_type": "code",
      "source": "corretos = (previsoes == teste_y).sum()\ntotal = len(teste_x)\ntaxa_de_acerto = corretos/total\nprint(\"Taxa de acerto: %.2f\" % (taxa_de_acerto*100))",
      "execution_count": 9,
      "outputs": [
        {
          "output_type": "stream",
          "text": "Taxa de acerto: 66.67\n",
          "name": "stdout"
        }
      ]
    },
    {
      "metadata": {
        "trusted": true
      },
      "cell_type": "code",
      "source": "from sklearn.metrics import accuracy_score\n\ntaxa_de_acerto = accuracy_score(teste_y, previsoes)\nprint(\"Taxa de acerto: %.2f\" % (taxa_de_acerto*100))",
      "execution_count": 10,
      "outputs": [
        {
          "output_type": "stream",
          "text": "Taxa de acerto: 66.67\n",
          "name": "stdout"
        }
      ]
    }
  ],
  "metadata": {
    "kernelspec": {
      "name": "python36",
      "display_name": "Python 3.6",
      "language": "python"
    },
    "language_info": {
      "mimetype": "text/x-python",
      "nbconvert_exporter": "python",
      "name": "python",
      "pygments_lexer": "ipython3",
      "version": "3.6.6",
      "file_extension": ".py",
      "codemirror_mode": {
        "version": 3,
        "name": "ipython"
      }
    }
  },
  "nbformat": 4,
  "nbformat_minor": 2
}