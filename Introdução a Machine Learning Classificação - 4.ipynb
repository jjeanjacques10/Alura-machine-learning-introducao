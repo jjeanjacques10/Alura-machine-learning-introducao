{
  "cells": [
    {
      "metadata": {
        "trusted": true
      },
      "cell_type": "code",
      "source": "!pip install graphviz==0.10\n!sudo apt-get install graphviz",
      "execution_count": 15,
      "outputs": [
        {
          "output_type": "stream",
          "text": "Requirement already satisfied: graphviz==0.10 in /home/nbuser/anaconda3_501/lib/python3.6/site-packages (0.10)\n[sudo] password for nbuser: \n",
          "name": "stdout"
        }
      ]
    },
    {
      "metadata": {
        "trusted": true
      },
      "cell_type": "code",
      "source": "import pandas as pd\n\nuri = \"https://gist.githubusercontent.com/guilhermesilveira/4d1d4a16ccbf6ea4e0a64a38a24ec884/raw/afd05cb0c796d18f3f5a6537053ded308ba94bf7/car-prices.csv\"\ndados = pd.read_csv(uri)\n\ndados.head()",
      "execution_count": 2,
      "outputs": [
        {
          "output_type": "execute_result",
          "execution_count": 2,
          "data": {
            "text/html": "<div>\n<style scoped>\n    .dataframe tbody tr th:only-of-type {\n        vertical-align: middle;\n    }\n\n    .dataframe tbody tr th {\n        vertical-align: top;\n    }\n\n    .dataframe thead th {\n        text-align: right;\n    }\n</style>\n<table border=\"1\" class=\"dataframe\">\n  <thead>\n    <tr style=\"text-align: right;\">\n      <th></th>\n      <th>Unnamed: 0</th>\n      <th>mileage_per_year</th>\n      <th>model_year</th>\n      <th>price</th>\n      <th>sold</th>\n    </tr>\n  </thead>\n  <tbody>\n    <tr>\n      <th>0</th>\n      <td>0</td>\n      <td>21801</td>\n      <td>2000</td>\n      <td>30941.02</td>\n      <td>yes</td>\n    </tr>\n    <tr>\n      <th>1</th>\n      <td>1</td>\n      <td>7843</td>\n      <td>1998</td>\n      <td>40557.96</td>\n      <td>yes</td>\n    </tr>\n    <tr>\n      <th>2</th>\n      <td>2</td>\n      <td>7109</td>\n      <td>2006</td>\n      <td>89627.50</td>\n      <td>no</td>\n    </tr>\n    <tr>\n      <th>3</th>\n      <td>3</td>\n      <td>26823</td>\n      <td>2015</td>\n      <td>95276.14</td>\n      <td>no</td>\n    </tr>\n    <tr>\n      <th>4</th>\n      <td>4</td>\n      <td>7935</td>\n      <td>2014</td>\n      <td>117384.68</td>\n      <td>yes</td>\n    </tr>\n  </tbody>\n</table>\n</div>",
            "text/plain": "   Unnamed: 0  mileage_per_year  model_year      price sold\n0           0             21801        2000   30941.02  yes\n1           1              7843        1998   40557.96  yes\n2           2              7109        2006   89627.50   no\n3           3             26823        2015   95276.14   no\n4           4              7935        2014  117384.68  yes"
          },
          "metadata": {}
        }
      ]
    },
    {
      "metadata": {
        "trusted": true
      },
      "cell_type": "code",
      "source": "a_renomear = {\n    'mileage_per_year' : 'milhas_por_ano',\n    'model_year' : 'ano_do_modelo',\n    'price' : 'preco',\n    'sold' : 'vendido'\n}\ndados = dados.rename(columns=a_renomear)\ndados.head()",
      "execution_count": 3,
      "outputs": [
        {
          "output_type": "execute_result",
          "execution_count": 3,
          "data": {
            "text/html": "<div>\n<style scoped>\n    .dataframe tbody tr th:only-of-type {\n        vertical-align: middle;\n    }\n\n    .dataframe tbody tr th {\n        vertical-align: top;\n    }\n\n    .dataframe thead th {\n        text-align: right;\n    }\n</style>\n<table border=\"1\" class=\"dataframe\">\n  <thead>\n    <tr style=\"text-align: right;\">\n      <th></th>\n      <th>Unnamed: 0</th>\n      <th>milhas_por_ano</th>\n      <th>ano_do_modelo</th>\n      <th>preco</th>\n      <th>vendido</th>\n    </tr>\n  </thead>\n  <tbody>\n    <tr>\n      <th>0</th>\n      <td>0</td>\n      <td>21801</td>\n      <td>2000</td>\n      <td>30941.02</td>\n      <td>yes</td>\n    </tr>\n    <tr>\n      <th>1</th>\n      <td>1</td>\n      <td>7843</td>\n      <td>1998</td>\n      <td>40557.96</td>\n      <td>yes</td>\n    </tr>\n    <tr>\n      <th>2</th>\n      <td>2</td>\n      <td>7109</td>\n      <td>2006</td>\n      <td>89627.50</td>\n      <td>no</td>\n    </tr>\n    <tr>\n      <th>3</th>\n      <td>3</td>\n      <td>26823</td>\n      <td>2015</td>\n      <td>95276.14</td>\n      <td>no</td>\n    </tr>\n    <tr>\n      <th>4</th>\n      <td>4</td>\n      <td>7935</td>\n      <td>2014</td>\n      <td>117384.68</td>\n      <td>yes</td>\n    </tr>\n  </tbody>\n</table>\n</div>",
            "text/plain": "   Unnamed: 0  milhas_por_ano  ano_do_modelo      preco vendido\n0           0           21801           2000   30941.02     yes\n1           1            7843           1998   40557.96     yes\n2           2            7109           2006   89627.50      no\n3           3           26823           2015   95276.14      no\n4           4            7935           2014  117384.68     yes"
          },
          "metadata": {}
        }
      ]
    },
    {
      "metadata": {},
      "cell_type": "markdown",
      "source": "## Trocar valores  (no/yes)"
    },
    {
      "metadata": {
        "trusted": true
      },
      "cell_type": "code",
      "source": "a_trocar = {\n    'no' : 0,\n    'yes' : 1\n}\ndados.vendido = dados.vendido.map(a_trocar)\ndados.head()",
      "execution_count": 4,
      "outputs": [
        {
          "output_type": "execute_result",
          "execution_count": 4,
          "data": {
            "text/html": "<div>\n<style scoped>\n    .dataframe tbody tr th:only-of-type {\n        vertical-align: middle;\n    }\n\n    .dataframe tbody tr th {\n        vertical-align: top;\n    }\n\n    .dataframe thead th {\n        text-align: right;\n    }\n</style>\n<table border=\"1\" class=\"dataframe\">\n  <thead>\n    <tr style=\"text-align: right;\">\n      <th></th>\n      <th>Unnamed: 0</th>\n      <th>milhas_por_ano</th>\n      <th>ano_do_modelo</th>\n      <th>preco</th>\n      <th>vendido</th>\n    </tr>\n  </thead>\n  <tbody>\n    <tr>\n      <th>0</th>\n      <td>0</td>\n      <td>21801</td>\n      <td>2000</td>\n      <td>30941.02</td>\n      <td>1</td>\n    </tr>\n    <tr>\n      <th>1</th>\n      <td>1</td>\n      <td>7843</td>\n      <td>1998</td>\n      <td>40557.96</td>\n      <td>1</td>\n    </tr>\n    <tr>\n      <th>2</th>\n      <td>2</td>\n      <td>7109</td>\n      <td>2006</td>\n      <td>89627.50</td>\n      <td>0</td>\n    </tr>\n    <tr>\n      <th>3</th>\n      <td>3</td>\n      <td>26823</td>\n      <td>2015</td>\n      <td>95276.14</td>\n      <td>0</td>\n    </tr>\n    <tr>\n      <th>4</th>\n      <td>4</td>\n      <td>7935</td>\n      <td>2014</td>\n      <td>117384.68</td>\n      <td>1</td>\n    </tr>\n  </tbody>\n</table>\n</div>",
            "text/plain": "   Unnamed: 0  milhas_por_ano  ano_do_modelo      preco  vendido\n0           0           21801           2000   30941.02        1\n1           1            7843           1998   40557.96        1\n2           2            7109           2006   89627.50        0\n3           3           26823           2015   95276.14        0\n4           4            7935           2014  117384.68        1"
          },
          "metadata": {}
        }
      ]
    },
    {
      "metadata": {
        "trusted": true
      },
      "cell_type": "code",
      "source": "from datetime import datetime\n\nano_atual = datetime.today().year\n\ndados['idade_do_modelo'] = ano_atual - dados.ano_do_modelo\ndados.head()",
      "execution_count": 5,
      "outputs": [
        {
          "output_type": "execute_result",
          "execution_count": 5,
          "data": {
            "text/html": "<div>\n<style scoped>\n    .dataframe tbody tr th:only-of-type {\n        vertical-align: middle;\n    }\n\n    .dataframe tbody tr th {\n        vertical-align: top;\n    }\n\n    .dataframe thead th {\n        text-align: right;\n    }\n</style>\n<table border=\"1\" class=\"dataframe\">\n  <thead>\n    <tr style=\"text-align: right;\">\n      <th></th>\n      <th>Unnamed: 0</th>\n      <th>milhas_por_ano</th>\n      <th>ano_do_modelo</th>\n      <th>preco</th>\n      <th>vendido</th>\n      <th>idade_do_modelo</th>\n    </tr>\n  </thead>\n  <tbody>\n    <tr>\n      <th>0</th>\n      <td>0</td>\n      <td>21801</td>\n      <td>2000</td>\n      <td>30941.02</td>\n      <td>1</td>\n      <td>19</td>\n    </tr>\n    <tr>\n      <th>1</th>\n      <td>1</td>\n      <td>7843</td>\n      <td>1998</td>\n      <td>40557.96</td>\n      <td>1</td>\n      <td>21</td>\n    </tr>\n    <tr>\n      <th>2</th>\n      <td>2</td>\n      <td>7109</td>\n      <td>2006</td>\n      <td>89627.50</td>\n      <td>0</td>\n      <td>13</td>\n    </tr>\n    <tr>\n      <th>3</th>\n      <td>3</td>\n      <td>26823</td>\n      <td>2015</td>\n      <td>95276.14</td>\n      <td>0</td>\n      <td>4</td>\n    </tr>\n    <tr>\n      <th>4</th>\n      <td>4</td>\n      <td>7935</td>\n      <td>2014</td>\n      <td>117384.68</td>\n      <td>1</td>\n      <td>5</td>\n    </tr>\n  </tbody>\n</table>\n</div>",
            "text/plain": "   Unnamed: 0  milhas_por_ano  ano_do_modelo      preco  vendido  \\\n0           0           21801           2000   30941.02        1   \n1           1            7843           1998   40557.96        1   \n2           2            7109           2006   89627.50        0   \n3           3           26823           2015   95276.14        0   \n4           4            7935           2014  117384.68        1   \n\n   idade_do_modelo  \n0               19  \n1               21  \n2               13  \n3                4  \n4                5  "
          },
          "metadata": {}
        }
      ]
    },
    {
      "metadata": {
        "trusted": true
      },
      "cell_type": "code",
      "source": "dados['km_por_ano'] = dados.milhas_por_ano * 1.60934\ndados.head()",
      "execution_count": 6,
      "outputs": [
        {
          "output_type": "execute_result",
          "execution_count": 6,
          "data": {
            "text/html": "<div>\n<style scoped>\n    .dataframe tbody tr th:only-of-type {\n        vertical-align: middle;\n    }\n\n    .dataframe tbody tr th {\n        vertical-align: top;\n    }\n\n    .dataframe thead th {\n        text-align: right;\n    }\n</style>\n<table border=\"1\" class=\"dataframe\">\n  <thead>\n    <tr style=\"text-align: right;\">\n      <th></th>\n      <th>Unnamed: 0</th>\n      <th>milhas_por_ano</th>\n      <th>ano_do_modelo</th>\n      <th>preco</th>\n      <th>vendido</th>\n      <th>idade_do_modelo</th>\n      <th>km_por_ano</th>\n    </tr>\n  </thead>\n  <tbody>\n    <tr>\n      <th>0</th>\n      <td>0</td>\n      <td>21801</td>\n      <td>2000</td>\n      <td>30941.02</td>\n      <td>1</td>\n      <td>19</td>\n      <td>35085.22134</td>\n    </tr>\n    <tr>\n      <th>1</th>\n      <td>1</td>\n      <td>7843</td>\n      <td>1998</td>\n      <td>40557.96</td>\n      <td>1</td>\n      <td>21</td>\n      <td>12622.05362</td>\n    </tr>\n    <tr>\n      <th>2</th>\n      <td>2</td>\n      <td>7109</td>\n      <td>2006</td>\n      <td>89627.50</td>\n      <td>0</td>\n      <td>13</td>\n      <td>11440.79806</td>\n    </tr>\n    <tr>\n      <th>3</th>\n      <td>3</td>\n      <td>26823</td>\n      <td>2015</td>\n      <td>95276.14</td>\n      <td>0</td>\n      <td>4</td>\n      <td>43167.32682</td>\n    </tr>\n    <tr>\n      <th>4</th>\n      <td>4</td>\n      <td>7935</td>\n      <td>2014</td>\n      <td>117384.68</td>\n      <td>1</td>\n      <td>5</td>\n      <td>12770.11290</td>\n    </tr>\n  </tbody>\n</table>\n</div>",
            "text/plain": "   Unnamed: 0  milhas_por_ano  ano_do_modelo      preco  vendido  \\\n0           0           21801           2000   30941.02        1   \n1           1            7843           1998   40557.96        1   \n2           2            7109           2006   89627.50        0   \n3           3           26823           2015   95276.14        0   \n4           4            7935           2014  117384.68        1   \n\n   idade_do_modelo   km_por_ano  \n0               19  35085.22134  \n1               21  12622.05362  \n2               13  11440.79806  \n3                4  43167.32682  \n4                5  12770.11290  "
          },
          "metadata": {}
        }
      ]
    },
    {
      "metadata": {},
      "cell_type": "markdown",
      "source": "## Apagando columns"
    },
    {
      "metadata": {
        "trusted": true
      },
      "cell_type": "code",
      "source": "dados = dados.drop(columns = ['Unnamed: 0', \"milhas_por_ano\", \"ano_do_modelo\"])\ndados.head()",
      "execution_count": 7,
      "outputs": [
        {
          "output_type": "execute_result",
          "execution_count": 7,
          "data": {
            "text/html": "<div>\n<style scoped>\n    .dataframe tbody tr th:only-of-type {\n        vertical-align: middle;\n    }\n\n    .dataframe tbody tr th {\n        vertical-align: top;\n    }\n\n    .dataframe thead th {\n        text-align: right;\n    }\n</style>\n<table border=\"1\" class=\"dataframe\">\n  <thead>\n    <tr style=\"text-align: right;\">\n      <th></th>\n      <th>preco</th>\n      <th>vendido</th>\n      <th>idade_do_modelo</th>\n      <th>km_por_ano</th>\n    </tr>\n  </thead>\n  <tbody>\n    <tr>\n      <th>0</th>\n      <td>30941.02</td>\n      <td>1</td>\n      <td>19</td>\n      <td>35085.22134</td>\n    </tr>\n    <tr>\n      <th>1</th>\n      <td>40557.96</td>\n      <td>1</td>\n      <td>21</td>\n      <td>12622.05362</td>\n    </tr>\n    <tr>\n      <th>2</th>\n      <td>89627.50</td>\n      <td>0</td>\n      <td>13</td>\n      <td>11440.79806</td>\n    </tr>\n    <tr>\n      <th>3</th>\n      <td>95276.14</td>\n      <td>0</td>\n      <td>4</td>\n      <td>43167.32682</td>\n    </tr>\n    <tr>\n      <th>4</th>\n      <td>117384.68</td>\n      <td>1</td>\n      <td>5</td>\n      <td>12770.11290</td>\n    </tr>\n  </tbody>\n</table>\n</div>",
            "text/plain": "       preco  vendido  idade_do_modelo   km_por_ano\n0   30941.02        1               19  35085.22134\n1   40557.96        1               21  12622.05362\n2   89627.50        0               13  11440.79806\n3   95276.14        0                4  43167.32682\n4  117384.68        1                5  12770.11290"
          },
          "metadata": {}
        }
      ]
    },
    {
      "metadata": {
        "trusted": true
      },
      "cell_type": "code",
      "source": "x = dados[[\"preco\", \"idade_do_modelo\", \"km_por_ano\"]]\ny = dados[\"vendido\"]\n\nimport numpy as np\nfrom sklearn.model_selection import train_test_split\nfrom sklearn.svm import LinearSVC\nfrom sklearn.metrics import accuracy_score\n\nSEED =5 \nnp.random.seed(SEED)\ntreino_x, teste_x, treino_y, teste_y = train_test_split(x, y, \n                                                        test_size = 0.25,\n                                                        stratify = y)\nprint(\"Treinaremos com %d elementos e testaremos com %d elementos\" % (len(treino_x), len(teste_y)))\n\nmodelo = LinearSVC()\nmodelo.fit(treino_x, treino_y)\nprevisoes = modelo.predict(teste_x)\n\nacuracia = accuracy_score(teste_y, previsoes) * 100\nprint(\"A acurácia foi %.2f%%\" % acuracia)",
      "execution_count": 8,
      "outputs": [
        {
          "output_type": "stream",
          "text": "Treinaremos com 7500 elementos e testaremos com 2500 elementos\nA acurácia foi 57.88%\n",
          "name": "stdout"
        },
        {
          "output_type": "stream",
          "text": "/home/nbuser/anaconda3_501/lib/python3.6/site-packages/sklearn/svm/base.py:931: ConvergenceWarning: Liblinear failed to converge, increase the number of iterations.\n  \"the number of iterations.\", ConvergenceWarning)\n",
          "name": "stderr"
        }
      ]
    },
    {
      "metadata": {},
      "cell_type": "markdown",
      "source": "# Criando um baseline\n### uso do DymmyClassifier"
    },
    {
      "metadata": {
        "trusted": true
      },
      "cell_type": "code",
      "source": "from sklearn.dummy import DummyClassifier\n\nduummy_stratified = DummyClassifier()\nduummy_stratified.fit(treino_x, treino_y)\nacuracia = duummy_stratified.score(teste_x, teste_y) * 100\n\nprint(\"A acurácia do duummy  stratified foi %.2f%%\" % acuracia)",
      "execution_count": 9,
      "outputs": [
        {
          "output_type": "stream",
          "text": "A acurácia do duummy  stratified foi 52.44%\n",
          "name": "stdout"
        }
      ]
    },
    {
      "metadata": {
        "trusted": true
      },
      "cell_type": "code",
      "source": "from sklearn.dummy import DummyClassifier\n\nduummy_mostfrequent = DummyClassifier()\nduummy_mostfrequent.fit(treino_x, treino_y)\nprevisoes = duummy_mostfrequent.predict(teste_x)\n\nacuracia = accuracy_score(teste_y, previsoes) * 100\nprint(\"A acurácia do duummy mostfrequent foi %.2f%%\" % acuracia)",
      "execution_count": 10,
      "outputs": [
        {
          "output_type": "stream",
          "text": "A acurácia do duummy mostfrequent foi 50.68%\n",
          "name": "stdout"
        }
      ]
    },
    {
      "metadata": {},
      "cell_type": "markdown",
      "source": "# Usando o SVC"
    },
    {
      "metadata": {
        "trusted": true
      },
      "cell_type": "code",
      "source": "from sklearn.model_selection import train_test_split\nfrom sklearn.svm import SVC\nfrom sklearn.metrics import accuracy_score\nfrom sklearn.preprocessing import StandardScaler\n\nSEED =5 \nnp.random.seed(SEED)\ntreino_x, teste_x, treino_y, teste_y = train_test_split(x, y, \n                                                        test_size = 0.25,\n                                                        stratify = y)\nprint(\"Treinaremos com %d elementos e testaremos com %d elementos\" % (len(treino_x), len(teste_y)))\n\nscaler = StandardScaler()\nscaler.fit(treino_x)\ntreino_x = scaler.transform(treino_x)\nteste_x = scaler.transform(teste_x)\n\nmodelo = SVC()\nmodelo.fit(treino_x, treino_y)\nprevisoes = modelo.predict(teste_x)\n\nacuracia = accuracy_score(teste_y, previsoes) * 100\n\nprint(\"A acurácia foi %.2f%%\" % acuracia)",
      "execution_count": 11,
      "outputs": [
        {
          "output_type": "stream",
          "text": "Treinaremos com 7500 elementos e testaremos com 2500 elementos\n",
          "name": "stdout"
        },
        {
          "output_type": "stream",
          "text": "/home/nbuser/anaconda3_501/lib/python3.6/site-packages/sklearn/preprocessing/data.py:645: DataConversionWarning: Data with input dtype int64, float64 were all converted to float64 by StandardScaler.\n  return self.partial_fit(X, y)\n/home/nbuser/anaconda3_501/lib/python3.6/site-packages/ipykernel/__main__.py:15: DataConversionWarning: Data with input dtype int64, float64 were all converted to float64 by StandardScaler.\n/home/nbuser/anaconda3_501/lib/python3.6/site-packages/ipykernel/__main__.py:16: DataConversionWarning: Data with input dtype int64, float64 were all converted to float64 by StandardScaler.\n",
          "name": "stderr"
        },
        {
          "output_type": "stream",
          "text": "A acurácia foi 77.48%\n",
          "name": "stdout"
        }
      ]
    },
    {
      "metadata": {},
      "cell_type": "markdown",
      "source": "# Decision Tree"
    },
    {
      "metadata": {
        "trusted": true
      },
      "cell_type": "code",
      "source": "from sklearn.model_selection import train_test_split\nfrom sklearn.tree import DecisionTreeClassifier\nfrom sklearn.metrics import accuracy_score\nfrom sklearn.preprocessing import StandardScaler\n\nSEED =5 \nnp.random.seed(SEED)\ntreino_x, teste_x, treino_y, teste_y = train_test_split(x, y, \n                                                        test_size = 0.25,\n                                                        stratify = y)\nprint(\"Treinaremos com %d elementos e testaremos com %d elementos\" % (len(treino_x), len(teste_y)))\n\nmodelo = DecisionTreeClassifier(max_depth=3)\nmodelo.fit(treino_x, treino_y)\nprevisoes = modelo.predict(teste_x)\n\nacuracia = accuracy_score(teste_y, previsoes) * 100\n\nprint(\"A acurácia foi %.2f%%\" % acuracia)",
      "execution_count": 31,
      "outputs": [
        {
          "output_type": "stream",
          "text": "Treinaremos com 7500 elementos e testaremos com 2500 elementos\nA acurácia foi 79.28%\n",
          "name": "stdout"
        }
      ]
    },
    {
      "metadata": {
        "trusted": true
      },
      "cell_type": "code",
      "source": "from sklearn.tree import export_graphviz\nimport graphviz\n\nfeatures = x.columns\ndot_data = export_graphviz(modelo, out_file=None, \n                           filled = True, rounded = True, \n                           feature_names = features,\n                           class_names = [\"não\", \"sim\"])\ngrafico = graphviz.Source(dot_data)\ngrafico",
      "execution_count": 32,
      "outputs": [
        {
          "output_type": "execute_result",
          "execution_count": 32,
          "data": {
            "text/plain": "<graphviz.files.Source at 0x7f6efa3fc0b8>",
            "image/svg+xml": "<?xml version=\"1.0\" encoding=\"UTF-8\" standalone=\"no\"?>\n<!DOCTYPE svg PUBLIC \"-//W3C//DTD SVG 1.1//EN\"\n \"http://www.w3.org/Graphics/SVG/1.1/DTD/svg11.dtd\">\n<!-- Generated by graphviz version 2.38.0 (20140413.2041)\n -->\n<!-- Title: Tree Pages: 1 -->\n<svg width=\"850pt\" height=\"433pt\"\n viewBox=\"0.00 0.00 850.00 433.00\" xmlns=\"http://www.w3.org/2000/svg\" xmlns:xlink=\"http://www.w3.org/1999/xlink\">\n<g id=\"graph0\" class=\"graph\" transform=\"scale(1 1) rotate(0) translate(4 429)\">\n<title>Tree</title>\n<polygon fill=\"white\" stroke=\"none\" points=\"-4,4 -4,-429 846,-429 846,4 -4,4\"/>\n<!-- 0 -->\n<g id=\"node1\" class=\"node\"><title>0</title>\n<path fill=\"#399de5\" fill-opacity=\"0.274510\" stroke=\"black\" d=\"M376.5,-425C376.5,-425 260.5,-425 260.5,-425 254.5,-425 248.5,-419 248.5,-413 248.5,-413 248.5,-354 248.5,-354 248.5,-348 254.5,-342 260.5,-342 260.5,-342 376.5,-342 376.5,-342 382.5,-342 388.5,-348 388.5,-354 388.5,-354 388.5,-413 388.5,-413 388.5,-419 382.5,-425 376.5,-425\"/>\n<text text-anchor=\"middle\" x=\"318.5\" y=\"-409.8\" font-family=\"Helvetica,sans-Serif\" font-size=\"14.00\">preco &lt;= 59999.074</text>\n<text text-anchor=\"middle\" x=\"318.5\" y=\"-394.8\" font-family=\"Helvetica,sans-Serif\" font-size=\"14.00\">gini = 0.487</text>\n<text text-anchor=\"middle\" x=\"318.5\" y=\"-379.8\" font-family=\"Helvetica,sans-Serif\" font-size=\"14.00\">samples = 7500</text>\n<text text-anchor=\"middle\" x=\"318.5\" y=\"-364.8\" font-family=\"Helvetica,sans-Serif\" font-size=\"14.00\">value = [3150, 4350]</text>\n<text text-anchor=\"middle\" x=\"318.5\" y=\"-349.8\" font-family=\"Helvetica,sans-Serif\" font-size=\"14.00\">class = sim</text>\n</g>\n<!-- 1 -->\n<g id=\"node2\" class=\"node\"><title>1</title>\n<path fill=\"#399de5\" fill-opacity=\"0.870588\" stroke=\"black\" d=\"M261.5,-306C261.5,-306 147.5,-306 147.5,-306 141.5,-306 135.5,-300 135.5,-294 135.5,-294 135.5,-235 135.5,-235 135.5,-229 141.5,-223 147.5,-223 147.5,-223 261.5,-223 261.5,-223 267.5,-223 273.5,-229 273.5,-235 273.5,-235 273.5,-294 273.5,-294 273.5,-300 267.5,-306 261.5,-306\"/>\n<text text-anchor=\"middle\" x=\"204.5\" y=\"-290.8\" font-family=\"Helvetica,sans-Serif\" font-size=\"14.00\">preco &lt;= 40070.154</text>\n<text text-anchor=\"middle\" x=\"204.5\" y=\"-275.8\" font-family=\"Helvetica,sans-Serif\" font-size=\"14.00\">gini = 0.202</text>\n<text text-anchor=\"middle\" x=\"204.5\" y=\"-260.8\" font-family=\"Helvetica,sans-Serif\" font-size=\"14.00\">samples = 3248</text>\n<text text-anchor=\"middle\" x=\"204.5\" y=\"-245.8\" font-family=\"Helvetica,sans-Serif\" font-size=\"14.00\">value = [370, 2878]</text>\n<text text-anchor=\"middle\" x=\"204.5\" y=\"-230.8\" font-family=\"Helvetica,sans-Serif\" font-size=\"14.00\">class = sim</text>\n</g>\n<!-- 0&#45;&gt;1 -->\n<g id=\"edge1\" class=\"edge\"><title>0&#45;&gt;1</title>\n<path fill=\"none\" stroke=\"black\" d=\"M278.948,-341.907C269.929,-332.651 260.265,-322.732 250.986,-313.209\"/>\n<polygon fill=\"black\" stroke=\"black\" points=\"253.467,-310.741 243.982,-306.021 248.454,-315.626 253.467,-310.741\"/>\n<text text-anchor=\"middle\" x=\"243.657\" y=\"-327.319\" font-family=\"Helvetica,sans-Serif\" font-size=\"14.00\">True</text>\n</g>\n<!-- 6 -->\n<g id=\"node7\" class=\"node\"><title>6</title>\n<path fill=\"#e58139\" fill-opacity=\"0.470588\" stroke=\"black\" d=\"M510.5,-306C510.5,-306 354.5,-306 354.5,-306 348.5,-306 342.5,-300 342.5,-294 342.5,-294 342.5,-235 342.5,-235 342.5,-229 348.5,-223 354.5,-223 354.5,-223 510.5,-223 510.5,-223 516.5,-223 522.5,-229 522.5,-235 522.5,-235 522.5,-294 522.5,-294 522.5,-300 516.5,-306 510.5,-306\"/>\n<text text-anchor=\"middle\" x=\"432.5\" y=\"-290.8\" font-family=\"Helvetica,sans-Serif\" font-size=\"14.00\">km_por_ano &lt;= 24112.741</text>\n<text text-anchor=\"middle\" x=\"432.5\" y=\"-275.8\" font-family=\"Helvetica,sans-Serif\" font-size=\"14.00\">gini = 0.453</text>\n<text text-anchor=\"middle\" x=\"432.5\" y=\"-260.8\" font-family=\"Helvetica,sans-Serif\" font-size=\"14.00\">samples = 4252</text>\n<text text-anchor=\"middle\" x=\"432.5\" y=\"-245.8\" font-family=\"Helvetica,sans-Serif\" font-size=\"14.00\">value = [2780, 1472]</text>\n<text text-anchor=\"middle\" x=\"432.5\" y=\"-230.8\" font-family=\"Helvetica,sans-Serif\" font-size=\"14.00\">class = não</text>\n</g>\n<!-- 0&#45;&gt;6 -->\n<g id=\"edge6\" class=\"edge\"><title>0&#45;&gt;6</title>\n<path fill=\"none\" stroke=\"black\" d=\"M358.052,-341.907C367.071,-332.651 376.735,-322.732 386.014,-313.209\"/>\n<polygon fill=\"black\" stroke=\"black\" points=\"388.546,-315.626 393.018,-306.021 383.533,-310.741 388.546,-315.626\"/>\n<text text-anchor=\"middle\" x=\"393.343\" y=\"-327.319\" font-family=\"Helvetica,sans-Serif\" font-size=\"14.00\">False</text>\n</g>\n<!-- 2 -->\n<g id=\"node3\" class=\"node\"><title>2</title>\n<path fill=\"#399de5\" stroke=\"black\" d=\"M105,-179.5C105,-179.5 12,-179.5 12,-179.5 6,-179.5 -7.10543e-15,-173.5 -7.10543e-15,-167.5 -7.10543e-15,-167.5 -7.10543e-15,-123.5 -7.10543e-15,-123.5 -7.10543e-15,-117.5 6,-111.5 12,-111.5 12,-111.5 105,-111.5 105,-111.5 111,-111.5 117,-117.5 117,-123.5 117,-123.5 117,-167.5 117,-167.5 117,-173.5 111,-179.5 105,-179.5\"/>\n<text text-anchor=\"middle\" x=\"58.5\" y=\"-164.3\" font-family=\"Helvetica,sans-Serif\" font-size=\"14.00\">gini = 0.0</text>\n<text text-anchor=\"middle\" x=\"58.5\" y=\"-149.3\" font-family=\"Helvetica,sans-Serif\" font-size=\"14.00\">samples = 1441</text>\n<text text-anchor=\"middle\" x=\"58.5\" y=\"-134.3\" font-family=\"Helvetica,sans-Serif\" font-size=\"14.00\">value = [0, 1441]</text>\n<text text-anchor=\"middle\" x=\"58.5\" y=\"-119.3\" font-family=\"Helvetica,sans-Serif\" font-size=\"14.00\">class = sim</text>\n</g>\n<!-- 1&#45;&gt;2 -->\n<g id=\"edge2\" class=\"edge\"><title>1&#45;&gt;2</title>\n<path fill=\"none\" stroke=\"black\" d=\"M153.846,-222.907C138.975,-210.99 122.735,-197.976 107.94,-186.12\"/>\n<polygon fill=\"black\" stroke=\"black\" points=\"109.88,-183.189 99.8878,-179.667 105.503,-188.652 109.88,-183.189\"/>\n</g>\n<!-- 3 -->\n<g id=\"node4\" class=\"node\"><title>3</title>\n<path fill=\"#399de5\" fill-opacity=\"0.741176\" stroke=\"black\" d=\"M261.5,-187C261.5,-187 147.5,-187 147.5,-187 141.5,-187 135.5,-181 135.5,-175 135.5,-175 135.5,-116 135.5,-116 135.5,-110 141.5,-104 147.5,-104 147.5,-104 261.5,-104 261.5,-104 267.5,-104 273.5,-110 273.5,-116 273.5,-116 273.5,-175 273.5,-175 273.5,-181 267.5,-187 261.5,-187\"/>\n<text text-anchor=\"middle\" x=\"204.5\" y=\"-171.8\" font-family=\"Helvetica,sans-Serif\" font-size=\"14.00\">preco &lt;= 40723.646</text>\n<text text-anchor=\"middle\" x=\"204.5\" y=\"-156.8\" font-family=\"Helvetica,sans-Serif\" font-size=\"14.00\">gini = 0.326</text>\n<text text-anchor=\"middle\" x=\"204.5\" y=\"-141.8\" font-family=\"Helvetica,sans-Serif\" font-size=\"14.00\">samples = 1807</text>\n<text text-anchor=\"middle\" x=\"204.5\" y=\"-126.8\" font-family=\"Helvetica,sans-Serif\" font-size=\"14.00\">value = [370, 1437]</text>\n<text text-anchor=\"middle\" x=\"204.5\" y=\"-111.8\" font-family=\"Helvetica,sans-Serif\" font-size=\"14.00\">class = sim</text>\n</g>\n<!-- 1&#45;&gt;3 -->\n<g id=\"edge3\" class=\"edge\"><title>1&#45;&gt;3</title>\n<path fill=\"none\" stroke=\"black\" d=\"M204.5,-222.907C204.5,-214.649 204.5,-205.864 204.5,-197.302\"/>\n<polygon fill=\"black\" stroke=\"black\" points=\"208,-197.021 204.5,-187.021 201,-197.021 208,-197.021\"/>\n</g>\n<!-- 4 -->\n<g id=\"node5\" class=\"node\"><title>4</title>\n<path fill=\"#399de5\" fill-opacity=\"0.513725\" stroke=\"black\" d=\"M108.5,-68C108.5,-68 22.5,-68 22.5,-68 16.5,-68 10.5,-62 10.5,-56 10.5,-56 10.5,-12 10.5,-12 10.5,-6 16.5,-0 22.5,-0 22.5,-0 108.5,-0 108.5,-0 114.5,-0 120.5,-6 120.5,-12 120.5,-12 120.5,-56 120.5,-56 120.5,-62 114.5,-68 108.5,-68\"/>\n<text text-anchor=\"middle\" x=\"65.5\" y=\"-52.8\" font-family=\"Helvetica,sans-Serif\" font-size=\"14.00\">gini = 0.441</text>\n<text text-anchor=\"middle\" x=\"65.5\" y=\"-37.8\" font-family=\"Helvetica,sans-Serif\" font-size=\"14.00\">samples = 61</text>\n<text text-anchor=\"middle\" x=\"65.5\" y=\"-22.8\" font-family=\"Helvetica,sans-Serif\" font-size=\"14.00\">value = [20, 41]</text>\n<text text-anchor=\"middle\" x=\"65.5\" y=\"-7.8\" font-family=\"Helvetica,sans-Serif\" font-size=\"14.00\">class = sim</text>\n</g>\n<!-- 3&#45;&gt;4 -->\n<g id=\"edge4\" class=\"edge\"><title>3&#45;&gt;4</title>\n<path fill=\"none\" stroke=\"black\" d=\"M152.742,-103.726C140.7,-94.2406 127.898,-84.1551 115.916,-74.7159\"/>\n<polygon fill=\"black\" stroke=\"black\" points=\"117.792,-71.7385 107.771,-68.2996 113.46,-77.2372 117.792,-71.7385\"/>\n</g>\n<!-- 5 -->\n<g id=\"node6\" class=\"node\"><title>5</title>\n<path fill=\"#399de5\" fill-opacity=\"0.749020\" stroke=\"black\" d=\"M258.5,-68C258.5,-68 150.5,-68 150.5,-68 144.5,-68 138.5,-62 138.5,-56 138.5,-56 138.5,-12 138.5,-12 138.5,-6 144.5,-0 150.5,-0 150.5,-0 258.5,-0 258.5,-0 264.5,-0 270.5,-6 270.5,-12 270.5,-12 270.5,-56 270.5,-56 270.5,-62 264.5,-68 258.5,-68\"/>\n<text text-anchor=\"middle\" x=\"204.5\" y=\"-52.8\" font-family=\"Helvetica,sans-Serif\" font-size=\"14.00\">gini = 0.321</text>\n<text text-anchor=\"middle\" x=\"204.5\" y=\"-37.8\" font-family=\"Helvetica,sans-Serif\" font-size=\"14.00\">samples = 1746</text>\n<text text-anchor=\"middle\" x=\"204.5\" y=\"-22.8\" font-family=\"Helvetica,sans-Serif\" font-size=\"14.00\">value = [350, 1396]</text>\n<text text-anchor=\"middle\" x=\"204.5\" y=\"-7.8\" font-family=\"Helvetica,sans-Serif\" font-size=\"14.00\">class = sim</text>\n</g>\n<!-- 3&#45;&gt;5 -->\n<g id=\"edge5\" class=\"edge\"><title>3&#45;&gt;5</title>\n<path fill=\"none\" stroke=\"black\" d=\"M204.5,-103.726C204.5,-95.5175 204.5,-86.8595 204.5,-78.56\"/>\n<polygon fill=\"black\" stroke=\"black\" points=\"208,-78.2996 204.5,-68.2996 201,-78.2996 208,-78.2996\"/>\n</g>\n<!-- 7 -->\n<g id=\"node8\" class=\"node\"><title>7</title>\n<path fill=\"#e58139\" fill-opacity=\"0.121569\" stroke=\"black\" d=\"M490.5,-187C490.5,-187 374.5,-187 374.5,-187 368.5,-187 362.5,-181 362.5,-175 362.5,-175 362.5,-116 362.5,-116 362.5,-110 368.5,-104 374.5,-104 374.5,-104 490.5,-104 490.5,-104 496.5,-104 502.5,-110 502.5,-116 502.5,-116 502.5,-175 502.5,-175 502.5,-181 496.5,-187 490.5,-187\"/>\n<text text-anchor=\"middle\" x=\"432.5\" y=\"-171.8\" font-family=\"Helvetica,sans-Serif\" font-size=\"14.00\">preco &lt;= 99974.41</text>\n<text text-anchor=\"middle\" x=\"432.5\" y=\"-156.8\" font-family=\"Helvetica,sans-Serif\" font-size=\"14.00\">gini = 0.498</text>\n<text text-anchor=\"middle\" x=\"432.5\" y=\"-141.8\" font-family=\"Helvetica,sans-Serif\" font-size=\"14.00\">samples = 2649</text>\n<text text-anchor=\"middle\" x=\"432.5\" y=\"-126.8\" font-family=\"Helvetica,sans-Serif\" font-size=\"14.00\">value = [1409, 1240]</text>\n<text text-anchor=\"middle\" x=\"432.5\" y=\"-111.8\" font-family=\"Helvetica,sans-Serif\" font-size=\"14.00\">class = não</text>\n</g>\n<!-- 6&#45;&gt;7 -->\n<g id=\"edge7\" class=\"edge\"><title>6&#45;&gt;7</title>\n<path fill=\"none\" stroke=\"black\" d=\"M432.5,-222.907C432.5,-214.649 432.5,-205.864 432.5,-197.302\"/>\n<polygon fill=\"black\" stroke=\"black\" points=\"436,-197.021 432.5,-187.021 429,-197.021 436,-197.021\"/>\n</g>\n<!-- 10 -->\n<g id=\"node11\" class=\"node\"><title>10</title>\n<path fill=\"#e58139\" fill-opacity=\"0.831373\" stroke=\"black\" d=\"M705.5,-187C705.5,-187 583.5,-187 583.5,-187 577.5,-187 571.5,-181 571.5,-175 571.5,-175 571.5,-116 571.5,-116 571.5,-110 577.5,-104 583.5,-104 583.5,-104 705.5,-104 705.5,-104 711.5,-104 717.5,-110 717.5,-116 717.5,-116 717.5,-175 717.5,-175 717.5,-181 711.5,-187 705.5,-187\"/>\n<text text-anchor=\"middle\" x=\"644.5\" y=\"-171.8\" font-family=\"Helvetica,sans-Serif\" font-size=\"14.00\">preco &lt;= 100076.957</text>\n<text text-anchor=\"middle\" x=\"644.5\" y=\"-156.8\" font-family=\"Helvetica,sans-Serif\" font-size=\"14.00\">gini = 0.248</text>\n<text text-anchor=\"middle\" x=\"644.5\" y=\"-141.8\" font-family=\"Helvetica,sans-Serif\" font-size=\"14.00\">samples = 1603</text>\n<text text-anchor=\"middle\" x=\"644.5\" y=\"-126.8\" font-family=\"Helvetica,sans-Serif\" font-size=\"14.00\">value = [1371, 232]</text>\n<text text-anchor=\"middle\" x=\"644.5\" y=\"-111.8\" font-family=\"Helvetica,sans-Serif\" font-size=\"14.00\">class = não</text>\n</g>\n<!-- 6&#45;&gt;10 -->\n<g id=\"edge10\" class=\"edge\"><title>6&#45;&gt;10</title>\n<path fill=\"none\" stroke=\"black\" d=\"M506.052,-222.907C524.326,-212.822 544.023,-201.952 562.667,-191.662\"/>\n<polygon fill=\"black\" stroke=\"black\" points=\"564.372,-194.719 571.436,-186.823 560.99,-188.591 564.372,-194.719\"/>\n</g>\n<!-- 8 -->\n<g id=\"node9\" class=\"node\"><title>8</title>\n<path fill=\"#e58139\" fill-opacity=\"0.243137\" stroke=\"black\" d=\"M408.5,-68C408.5,-68 300.5,-68 300.5,-68 294.5,-68 288.5,-62 288.5,-56 288.5,-56 288.5,-12 288.5,-12 288.5,-6 294.5,-0 300.5,-0 300.5,-0 408.5,-0 408.5,-0 414.5,-0 420.5,-6 420.5,-12 420.5,-12 420.5,-56 420.5,-56 420.5,-62 414.5,-68 408.5,-68\"/>\n<text text-anchor=\"middle\" x=\"354.5\" y=\"-52.8\" font-family=\"Helvetica,sans-Serif\" font-size=\"14.00\">gini = 0.49</text>\n<text text-anchor=\"middle\" x=\"354.5\" y=\"-37.8\" font-family=\"Helvetica,sans-Serif\" font-size=\"14.00\">samples = 2223</text>\n<text text-anchor=\"middle\" x=\"354.5\" y=\"-22.8\" font-family=\"Helvetica,sans-Serif\" font-size=\"14.00\">value = [1266, 957]</text>\n<text text-anchor=\"middle\" x=\"354.5\" y=\"-7.8\" font-family=\"Helvetica,sans-Serif\" font-size=\"14.00\">class = não</text>\n</g>\n<!-- 7&#45;&gt;8 -->\n<g id=\"edge8\" class=\"edge\"><title>7&#45;&gt;8</title>\n<path fill=\"none\" stroke=\"black\" d=\"M403.456,-103.726C397.154,-94.879 390.48,-85.51 384.154,-76.6303\"/>\n<polygon fill=\"black\" stroke=\"black\" points=\"386.873,-74.4138 378.22,-68.2996 381.171,-78.4751 386.873,-74.4138\"/>\n</g>\n<!-- 9 -->\n<g id=\"node10\" class=\"node\"><title>9</title>\n<path fill=\"#399de5\" fill-opacity=\"0.494118\" stroke=\"black\" d=\"M552,-68C552,-68 451,-68 451,-68 445,-68 439,-62 439,-56 439,-56 439,-12 439,-12 439,-6 445,-0 451,-0 451,-0 552,-0 552,-0 558,-0 564,-6 564,-12 564,-12 564,-56 564,-56 564,-62 558,-68 552,-68\"/>\n<text text-anchor=\"middle\" x=\"501.5\" y=\"-52.8\" font-family=\"Helvetica,sans-Serif\" font-size=\"14.00\">gini = 0.446</text>\n<text text-anchor=\"middle\" x=\"501.5\" y=\"-37.8\" font-family=\"Helvetica,sans-Serif\" font-size=\"14.00\">samples = 426</text>\n<text text-anchor=\"middle\" x=\"501.5\" y=\"-22.8\" font-family=\"Helvetica,sans-Serif\" font-size=\"14.00\">value = [143, 283]</text>\n<text text-anchor=\"middle\" x=\"501.5\" y=\"-7.8\" font-family=\"Helvetica,sans-Serif\" font-size=\"14.00\">class = sim</text>\n</g>\n<!-- 7&#45;&gt;9 -->\n<g id=\"edge9\" class=\"edge\"><title>7&#45;&gt;9</title>\n<path fill=\"none\" stroke=\"black\" d=\"M458.193,-103.726C463.711,-94.9703 469.55,-85.7032 475.094,-76.9051\"/>\n<polygon fill=\"black\" stroke=\"black\" points=\"478.147,-78.6259 480.517,-68.2996 472.224,-74.8941 478.147,-78.6259\"/>\n</g>\n<!-- 11 -->\n<g id=\"node12\" class=\"node\"><title>11</title>\n<path fill=\"#e58139\" fill-opacity=\"0.952941\" stroke=\"black\" d=\"M695,-68C695,-68 594,-68 594,-68 588,-68 582,-62 582,-56 582,-56 582,-12 582,-12 582,-6 588,-0 594,-0 594,-0 695,-0 695,-0 701,-0 707,-6 707,-12 707,-12 707,-56 707,-56 707,-62 701,-68 695,-68\"/>\n<text text-anchor=\"middle\" x=\"644.5\" y=\"-52.8\" font-family=\"Helvetica,sans-Serif\" font-size=\"14.00\">gini = 0.086</text>\n<text text-anchor=\"middle\" x=\"644.5\" y=\"-37.8\" font-family=\"Helvetica,sans-Serif\" font-size=\"14.00\">samples = 1356</text>\n<text text-anchor=\"middle\" x=\"644.5\" y=\"-22.8\" font-family=\"Helvetica,sans-Serif\" font-size=\"14.00\">value = [1295, 61]</text>\n<text text-anchor=\"middle\" x=\"644.5\" y=\"-7.8\" font-family=\"Helvetica,sans-Serif\" font-size=\"14.00\">class = não</text>\n</g>\n<!-- 10&#45;&gt;11 -->\n<g id=\"edge11\" class=\"edge\"><title>10&#45;&gt;11</title>\n<path fill=\"none\" stroke=\"black\" d=\"M644.5,-103.726C644.5,-95.5175 644.5,-86.8595 644.5,-78.56\"/>\n<polygon fill=\"black\" stroke=\"black\" points=\"648,-78.2996 644.5,-68.2996 641,-78.2996 648,-78.2996\"/>\n</g>\n<!-- 12 -->\n<g id=\"node13\" class=\"node\"><title>12</title>\n<path fill=\"#399de5\" fill-opacity=\"0.556863\" stroke=\"black\" d=\"M830,-68C830,-68 737,-68 737,-68 731,-68 725,-62 725,-56 725,-56 725,-12 725,-12 725,-6 731,-0 737,-0 737,-0 830,-0 830,-0 836,-0 842,-6 842,-12 842,-12 842,-56 842,-56 842,-62 836,-68 830,-68\"/>\n<text text-anchor=\"middle\" x=\"783.5\" y=\"-52.8\" font-family=\"Helvetica,sans-Serif\" font-size=\"14.00\">gini = 0.426</text>\n<text text-anchor=\"middle\" x=\"783.5\" y=\"-37.8\" font-family=\"Helvetica,sans-Serif\" font-size=\"14.00\">samples = 247</text>\n<text text-anchor=\"middle\" x=\"783.5\" y=\"-22.8\" font-family=\"Helvetica,sans-Serif\" font-size=\"14.00\">value = [76, 171]</text>\n<text text-anchor=\"middle\" x=\"783.5\" y=\"-7.8\" font-family=\"Helvetica,sans-Serif\" font-size=\"14.00\">class = sim</text>\n</g>\n<!-- 10&#45;&gt;12 -->\n<g id=\"edge12\" class=\"edge\"><title>10&#45;&gt;12</title>\n<path fill=\"none\" stroke=\"black\" d=\"M696.258,-103.726C708.3,-94.2406 721.102,-84.1551 733.084,-74.7159\"/>\n<polygon fill=\"black\" stroke=\"black\" points=\"735.54,-77.2372 741.229,-68.2996 731.208,-71.7385 735.54,-77.2372\"/>\n</g>\n</g>\n</svg>\n"
          },
          "metadata": {}
        }
      ]
    },
    {
      "metadata": {
        "trusted": true
      },
      "cell_type": "code",
      "source": "",
      "execution_count": null,
      "outputs": []
    }
  ],
  "metadata": {
    "kernelspec": {
      "name": "python36",
      "display_name": "Python 3.6",
      "language": "python"
    },
    "language_info": {
      "mimetype": "text/x-python",
      "nbconvert_exporter": "python",
      "name": "python",
      "pygments_lexer": "ipython3",
      "version": "3.6.6",
      "file_extension": ".py",
      "codemirror_mode": {
        "version": 3,
        "name": "ipython"
      }
    }
  },
  "nbformat": 4,
  "nbformat_minor": 2
}