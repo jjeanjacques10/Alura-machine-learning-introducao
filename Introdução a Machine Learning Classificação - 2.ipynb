{
  "cells": [
    {
      "metadata": {
        "trusted": true
      },
      "cell_type": "code",
      "source": "import pandas as pd\n\nuri = \"https://gist.githubusercontent.com/guilhermesilveira/2d2efa37d66b6c84a722ea627a897ced/raw/10968b997d885cbded1c92938c7a9912ba41c615/tracking.csv\"\ndados = pd.read_csv(uri)\ndados.head()",
      "execution_count": 10,
      "outputs": [
        {
          "output_type": "execute_result",
          "execution_count": 10,
          "data": {
            "text/html": "<div>\n<style scoped>\n    .dataframe tbody tr th:only-of-type {\n        vertical-align: middle;\n    }\n\n    .dataframe tbody tr th {\n        vertical-align: top;\n    }\n\n    .dataframe thead th {\n        text-align: right;\n    }\n</style>\n<table border=\"1\" class=\"dataframe\">\n  <thead>\n    <tr style=\"text-align: right;\">\n      <th></th>\n      <th>home</th>\n      <th>how_it_works</th>\n      <th>contact</th>\n      <th>bought</th>\n    </tr>\n  </thead>\n  <tbody>\n    <tr>\n      <th>0</th>\n      <td>1</td>\n      <td>1</td>\n      <td>0</td>\n      <td>0</td>\n    </tr>\n    <tr>\n      <th>1</th>\n      <td>1</td>\n      <td>1</td>\n      <td>0</td>\n      <td>0</td>\n    </tr>\n    <tr>\n      <th>2</th>\n      <td>1</td>\n      <td>1</td>\n      <td>0</td>\n      <td>0</td>\n    </tr>\n    <tr>\n      <th>3</th>\n      <td>1</td>\n      <td>1</td>\n      <td>0</td>\n      <td>0</td>\n    </tr>\n    <tr>\n      <th>4</th>\n      <td>1</td>\n      <td>1</td>\n      <td>0</td>\n      <td>0</td>\n    </tr>\n  </tbody>\n</table>\n</div>",
            "text/plain": "   home  how_it_works  contact  bought\n0     1             1        0       0\n1     1             1        0       0\n2     1             1        0       0\n3     1             1        0       0\n4     1             1        0       0"
          },
          "metadata": {}
        }
      ]
    },
    {
      "metadata": {
        "trusted": true
      },
      "cell_type": "code",
      "source": "mapa = {\n    \"home\" : \"principal\",\n    \"how_it_works\" : \"como_funciona\",\n    \"contact\" : \"contato\", \n    \"bought\" : \"comprou\"\n}\ndados = dados.rename(columns = mapa)",
      "execution_count": 18,
      "outputs": []
    },
    {
      "metadata": {
        "trusted": true
      },
      "cell_type": "code",
      "source": "x = dados[[\"principal\", \"como_funciona\", \"contato\"]]\nx.head()",
      "execution_count": 19,
      "outputs": [
        {
          "output_type": "execute_result",
          "execution_count": 19,
          "data": {
            "text/html": "<div>\n<style scoped>\n    .dataframe tbody tr th:only-of-type {\n        vertical-align: middle;\n    }\n\n    .dataframe tbody tr th {\n        vertical-align: top;\n    }\n\n    .dataframe thead th {\n        text-align: right;\n    }\n</style>\n<table border=\"1\" class=\"dataframe\">\n  <thead>\n    <tr style=\"text-align: right;\">\n      <th></th>\n      <th>principal</th>\n      <th>como_funciona</th>\n      <th>contato</th>\n    </tr>\n  </thead>\n  <tbody>\n    <tr>\n      <th>0</th>\n      <td>1</td>\n      <td>1</td>\n      <td>0</td>\n    </tr>\n    <tr>\n      <th>1</th>\n      <td>1</td>\n      <td>1</td>\n      <td>0</td>\n    </tr>\n    <tr>\n      <th>2</th>\n      <td>1</td>\n      <td>1</td>\n      <td>0</td>\n    </tr>\n    <tr>\n      <th>3</th>\n      <td>1</td>\n      <td>1</td>\n      <td>0</td>\n    </tr>\n    <tr>\n      <th>4</th>\n      <td>1</td>\n      <td>1</td>\n      <td>0</td>\n    </tr>\n  </tbody>\n</table>\n</div>",
            "text/plain": "   principal  como_funciona  contato\n0          1              1        0\n1          1              1        0\n2          1              1        0\n3          1              1        0\n4          1              1        0"
          },
          "metadata": {}
        }
      ]
    },
    {
      "metadata": {
        "trusted": true
      },
      "cell_type": "code",
      "source": "y = dados[\"comprou\"]\ny.head()",
      "execution_count": 20,
      "outputs": [
        {
          "output_type": "execute_result",
          "execution_count": 20,
          "data": {
            "text/plain": "0    0\n1    0\n2    0\n3    0\n4    0\nName: comprou, dtype: int64"
          },
          "metadata": {}
        }
      ]
    },
    {
      "metadata": {
        "trusted": true
      },
      "cell_type": "code",
      "source": "dados.shape",
      "execution_count": 21,
      "outputs": [
        {
          "output_type": "execute_result",
          "execution_count": 21,
          "data": {
            "text/plain": "(99, 4)"
          },
          "metadata": {}
        }
      ]
    },
    {
      "metadata": {
        "trusted": true
      },
      "cell_type": "code",
      "source": "treino_x = x[:75]\ntreino_y = y[:75]\nteste_x = x[75:]\nteste_y = y[75:]\n\nprint(\"Treinaremos com %d elementos e testaremos com %d elementos\" % (len(treino_x), len(teste_y)))",
      "execution_count": 23,
      "outputs": [
        {
          "output_type": "stream",
          "text": "Treinaremos com 75 elementos e testaremos com 24 elementos\n",
          "name": "stdout"
        }
      ]
    },
    {
      "metadata": {
        "trusted": true
      },
      "cell_type": "code",
      "source": "from sklearn.svm import LinearSVC\nfrom sklearn.metrics import accuracy_score\n\nmodelo = LinearSVC()\nmodelo.fit(treino_x, treino_y)\nprevisoes = modelo.predict(teste_x)\n\nacuracia = accuracy_score(teste_y, previsoes) * 100\n\nprint(\"A acurácia foi %.2f%%\" % acuracia)",
      "execution_count": 27,
      "outputs": [
        {
          "output_type": "stream",
          "text": "A acurácia foi 95.83%\n",
          "name": "stdout"
        }
      ]
    },
    {
      "metadata": {},
      "cell_type": "markdown",
      "source": "# Usando a biblioteca para dividir os dados"
    },
    {
      "metadata": {
        "trusted": true
      },
      "cell_type": "code",
      "source": "from sklearn.model_selection import train_test_split\nfrom sklearn.svm import LinearSVC\nfrom sklearn.metrics import accuracy_score\n\n#Garantir que não terá aleatoriedade\nSEED = 20\n\ntreino_x, teste_x, treino_y, teste_y = train_test_split(x, y, random_state = SEED,test_size = 0.25)\nprint(\"Treinaremos com %d elementos e testaremos com %d elementos\" % (len(treino_x), len(teste_y)))\n\nmodelo = LinearSVC()\nmodelo.fit(treino_x, treino_y)\nprevisoes = modelo.predict(teste_x)\n\nacuracia = accuracy_score(teste_y, previsoes) * 100\n\nprint(\"A acurácia foi %.2f%%\" % acuracia)",
      "execution_count": 73,
      "outputs": [
        {
          "output_type": "stream",
          "text": "Treinaremos com 74 elementos e testaremos com 25 elementos\nA acurácia foi 96.00%\n",
          "name": "stdout"
        }
      ]
    },
    {
      "metadata": {
        "trusted": true
      },
      "cell_type": "code",
      "source": "treino_y.value_counts()",
      "execution_count": 74,
      "outputs": [
        {
          "output_type": "execute_result",
          "execution_count": 74,
          "data": {
            "text/plain": "0    47\n1    27\nName: comprou, dtype: int64"
          },
          "metadata": {}
        }
      ]
    },
    {
      "metadata": {
        "trusted": true
      },
      "cell_type": "code",
      "source": "teste_y.value_counts()",
      "execution_count": 75,
      "outputs": [
        {
          "output_type": "execute_result",
          "execution_count": 75,
          "data": {
            "text/plain": "0    19\n1     6\nName: comprou, dtype: int64"
          },
          "metadata": {}
        }
      ]
    },
    {
      "metadata": {
        "trusted": true
      },
      "cell_type": "code",
      "source": "from sklearn.model_selection import train_test_split\nfrom sklearn.svm import LinearSVC\nfrom sklearn.metrics import accuracy_score\n\n#Garantir que não terá aleatoriedade\nSEED = 20\n\ntreino_x, teste_x, treino_y, teste_y = train_test_split(x, y, \n                                                        random_state = SEED,test_size = 0.25,\n                                                        stratify = y)\nprint(\"Treinaremos com %d elementos e testaremos com %d elementos\" % (len(treino_x), len(teste_y)))\n\nmodelo = LinearSVC()\nmodelo.fit(treino_x, treino_y)\nprevisoes = modelo.predict(teste_x)\n\nacuracia = accuracy_score(teste_y, previsoes) * 100\n\nprint(\"A acurácia foi %.2f%%\" % acuracia)",
      "execution_count": 78,
      "outputs": [
        {
          "output_type": "stream",
          "text": "Treinaremos com 74 elementos e testaremos com 25 elementos\nA acurácia foi 96.00%\n",
          "name": "stdout"
        }
      ]
    },
    {
      "metadata": {
        "trusted": true
      },
      "cell_type": "code",
      "source": "treino_y.value_counts()",
      "execution_count": 79,
      "outputs": [
        {
          "output_type": "execute_result",
          "execution_count": 79,
          "data": {
            "text/plain": "0    49\n1    25\nName: comprou, dtype: int64"
          },
          "metadata": {}
        }
      ]
    },
    {
      "metadata": {
        "trusted": true
      },
      "cell_type": "code",
      "source": "teste_y.value_counts()",
      "execution_count": 80,
      "outputs": [
        {
          "output_type": "execute_result",
          "execution_count": 80,
          "data": {
            "text/plain": "0    17\n1     8\nName: comprou, dtype: int64"
          },
          "metadata": {}
        }
      ]
    }
  ],
  "metadata": {
    "kernelspec": {
      "name": "python36",
      "display_name": "Python 3.6",
      "language": "python"
    },
    "language_info": {
      "mimetype": "text/x-python",
      "nbconvert_exporter": "python",
      "name": "python",
      "pygments_lexer": "ipython3",
      "version": "3.6.6",
      "file_extension": ".py",
      "codemirror_mode": {
        "version": 3,
        "name": "ipython"
      }
    }
  },
  "nbformat": 4,
  "nbformat_minor": 2
}